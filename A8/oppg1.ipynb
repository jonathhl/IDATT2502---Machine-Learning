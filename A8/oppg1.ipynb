{
 "cells": [
  {
   "cell_type": "code",
   "execution_count": 1,
   "metadata": {},
   "outputs": [],
   "source": [
    "import numpy as np\n",
    "from sklearn.preprocessing import KBinsDiscretizer\n",
    "import time, math, random\n",
    "from typing import Tuple\n",
    "import gym"
   ]
  },
  {
   "cell_type": "code",
   "execution_count": 2,
   "metadata": {},
   "outputs": [],
   "source": [
    "env = gym.make('CartPole-v1', render_mode='human')"
   ]
  },
  {
   "cell_type": "markdown",
   "metadata": {},
   "source": [
    "Q_Learning\n",
    "\n",
    "First i divide the continous space into buckets, to make the space discrete instead."
   ]
  },
  {
   "cell_type": "code",
   "execution_count": 3,
   "metadata": {},
   "outputs": [],
   "source": [
    "n_bins = (6, 12)\n",
    "lower_bounds = [env.observation_space.low[2], -math.radians(50)]\n",
    "upper_bounds = [env.observation_space.high[2], math.radians(50)]\n",
    "\n",
    "def discretizer( _ , __ , angle, pole_velocity ) -> Tuple[int, ...]:\n",
    "    est = KBinsDiscretizer(n_bins=n_bins, encode='ordinal', strategy='uniform')\n",
    "    est.fit([lower_bounds, upper_bounds])\n",
    "    return tuple(map(int, est.transform([[angle, pole_velocity]])[0]))"
   ]
  },
  {
   "cell_type": "markdown",
   "metadata": {},
   "source": [
    "I then initialize the q-table with zeroes."
   ]
  },
  {
   "cell_type": "code",
   "execution_count": 4,
   "metadata": {},
   "outputs": [
    {
     "data": {
      "text/plain": [
       "(6, 12, 2)"
      ]
     },
     "execution_count": 4,
     "metadata": {},
     "output_type": "execute_result"
    }
   ],
   "source": [
    "# Initializing the q table with zeroes\n",
    "q_table = np.zeros(n_bins + (env.action_space.n,))\n",
    "q_table.shape"
   ]
  },
  {
   "cell_type": "markdown",
   "metadata": {},
   "source": [
    "Policy:\n",
    "Greedy selection of highest q values.\n",
    "\n",
    "New_q_value:\n",
    "Updates the function.\n",
    "\n",
    "Learning_rate:\n",
    "Decaying learning rate.\n",
    "\n",
    "Exploration_rate:\n",
    "Also decaying as the model is trained."
   ]
  },
  {
   "cell_type": "code",
   "execution_count": 5,
   "metadata": {},
   "outputs": [],
   "source": [
    "def policy(state: tuple):\n",
    "    return np.argmax(q_table[state])\n",
    "\n",
    "def new_q_value(reward: float, state_new: tuple, discount_factor=1) -> float:\n",
    "    future_optimal_value = np.max(q_table[state_new])\n",
    "    learned_value = reward + discount_factor * future_optimal_value\n",
    "    return learned_value\n",
    "\n",
    "def learning_rate(n: int, min_rate=0.01) -> float:\n",
    "    return max(min_rate, min(1.0, 1.0 - math.log10((n+1) / 25)))\n",
    "\n",
    "def exploration_rate(n: int, min_rate=0.1) -> float:\n",
    "    return max(min_rate, min(1., 1.0 - math.log10((n+1) / 25)))"
   ]
  },
  {
   "cell_type": "code",
   "execution_count": 6,
   "metadata": {},
   "outputs": [
    {
     "name": "stdout",
     "output_type": "stream",
     "text": [
      "episode: 0/200, e: 1.0\n",
      "episode: 1/200, e: 1.0\n",
      "episode: 2/200, e: 1.0\n",
      "episode: 3/200, e: 1.0\n",
      "episode: 4/200, e: 1.0\n",
      "episode: 5/200, e: 1.0\n",
      "episode: 6/200, e: 1.0\n",
      "episode: 7/200, e: 1.0\n",
      "episode: 8/200, e: 1.0\n",
      "episode: 9/200, e: 1.0\n",
      "episode: 10/200, e: 1.0\n",
      "episode: 11/200, e: 1.0\n",
      "episode: 12/200, e: 1.0\n",
      "episode: 13/200, e: 1.0\n",
      "episode: 14/200, e: 1.0\n",
      "episode: 15/200, e: 1.0\n",
      "episode: 16/200, e: 1.0\n",
      "episode: 17/200, e: 1.0\n",
      "episode: 18/200, e: 1.0\n",
      "episode: 19/200, e: 1.0\n",
      "episode: 20/200, e: 1.0\n",
      "episode: 21/200, e: 1.0\n",
      "episode: 22/200, e: 1.0\n",
      "episode: 23/200, e: 1.0\n",
      "episode: 24/200, e: 1.0\n",
      "episode: 25/200, e: 0.98\n",
      "episode: 26/200, e: 0.97\n",
      "episode: 27/200, e: 0.95\n",
      "episode: 28/200, e: 0.94\n",
      "episode: 29/200, e: 0.92\n",
      "episode: 30/200, e: 0.91\n",
      "episode: 31/200, e: 0.89\n",
      "episode: 32/200, e: 0.88\n",
      "episode: 33/200, e: 0.87\n",
      "episode: 34/200, e: 0.85\n",
      "episode: 35/200, e: 0.84\n",
      "episode: 36/200, e: 0.83\n",
      "episode: 37/200, e: 0.82\n",
      "episode: 38/200, e: 0.81\n",
      "episode: 39/200, e: 0.8\n",
      "episode: 40/200, e: 0.79\n",
      "episode: 41/200, e: 0.77\n"
     ]
    },
    {
     "ename": "KeyboardInterrupt",
     "evalue": "",
     "output_type": "error",
     "traceback": [
      "\u001b[0;31m---------------------------------------------------------------------------\u001b[0m",
      "\u001b[0;31mKeyboardInterrupt\u001b[0m                         Traceback (most recent call last)",
      "\u001b[1;32m/home/jonathan/Documents/IDATT2502/IDATT2502 - Machine Learning/A8/oppg1.ipynb Cell 9\u001b[0m in \u001b[0;36m<cell line: 3>\u001b[0;34m()\u001b[0m\n\u001b[1;32m      <a href='vscode-notebook-cell:/home/jonathan/Documents/IDATT2502/IDATT2502%20-%20Machine%20Learning/A8/oppg1.ipynb#W6sZmlsZQ%3D%3D?line=8'>9</a>\u001b[0m \u001b[39mif\u001b[39;00m np\u001b[39m.\u001b[39mrandom\u001b[39m.\u001b[39mrandom() \u001b[39m<\u001b[39m exploration_rate(e):\n\u001b[1;32m     <a href='vscode-notebook-cell:/home/jonathan/Documents/IDATT2502/IDATT2502%20-%20Machine%20Learning/A8/oppg1.ipynb#W6sZmlsZQ%3D%3D?line=9'>10</a>\u001b[0m     action \u001b[39m=\u001b[39m env\u001b[39m.\u001b[39maction_space\u001b[39m.\u001b[39msample()\n\u001b[0;32m---> <a href='vscode-notebook-cell:/home/jonathan/Documents/IDATT2502/IDATT2502%20-%20Machine%20Learning/A8/oppg1.ipynb#W6sZmlsZQ%3D%3D?line=11'>12</a>\u001b[0m obs, reward, done, _, __ \u001b[39m=\u001b[39m [i \u001b[39mfor\u001b[39;00m i \u001b[39min\u001b[39;00m env\u001b[39m.\u001b[39;49mstep(action)]\n\u001b[1;32m     <a href='vscode-notebook-cell:/home/jonathan/Documents/IDATT2502/IDATT2502%20-%20Machine%20Learning/A8/oppg1.ipynb#W6sZmlsZQ%3D%3D?line=12'>13</a>\u001b[0m new_state \u001b[39m=\u001b[39m discretizer(\u001b[39m*\u001b[39mobs)\n\u001b[1;32m     <a href='vscode-notebook-cell:/home/jonathan/Documents/IDATT2502/IDATT2502%20-%20Machine%20Learning/A8/oppg1.ipynb#W6sZmlsZQ%3D%3D?line=14'>15</a>\u001b[0m lr \u001b[39m=\u001b[39m learning_rate(e)\n",
      "File \u001b[0;32m~/.local/lib/python3.10/site-packages/gym/wrappers/time_limit.py:50\u001b[0m, in \u001b[0;36mTimeLimit.step\u001b[0;34m(self, action)\u001b[0m\n\u001b[1;32m     39\u001b[0m \u001b[39mdef\u001b[39;00m \u001b[39mstep\u001b[39m(\u001b[39mself\u001b[39m, action):\n\u001b[1;32m     40\u001b[0m     \u001b[39m\"\"\"Steps through the environment and if the number of steps elapsed exceeds ``max_episode_steps`` then truncate.\u001b[39;00m\n\u001b[1;32m     41\u001b[0m \n\u001b[1;32m     42\u001b[0m \u001b[39m    Args:\u001b[39;00m\n\u001b[0;32m   (...)\u001b[0m\n\u001b[1;32m     48\u001b[0m \n\u001b[1;32m     49\u001b[0m \u001b[39m    \"\"\"\u001b[39;00m\n\u001b[0;32m---> 50\u001b[0m     observation, reward, terminated, truncated, info \u001b[39m=\u001b[39m \u001b[39mself\u001b[39;49m\u001b[39m.\u001b[39;49menv\u001b[39m.\u001b[39;49mstep(action)\n\u001b[1;32m     51\u001b[0m     \u001b[39mself\u001b[39m\u001b[39m.\u001b[39m_elapsed_steps \u001b[39m+\u001b[39m\u001b[39m=\u001b[39m \u001b[39m1\u001b[39m\n\u001b[1;32m     53\u001b[0m     \u001b[39mif\u001b[39;00m \u001b[39mself\u001b[39m\u001b[39m.\u001b[39m_elapsed_steps \u001b[39m>\u001b[39m\u001b[39m=\u001b[39m \u001b[39mself\u001b[39m\u001b[39m.\u001b[39m_max_episode_steps:\n",
      "File \u001b[0;32m~/.local/lib/python3.10/site-packages/gym/wrappers/order_enforcing.py:37\u001b[0m, in \u001b[0;36mOrderEnforcing.step\u001b[0;34m(self, action)\u001b[0m\n\u001b[1;32m     35\u001b[0m \u001b[39mif\u001b[39;00m \u001b[39mnot\u001b[39;00m \u001b[39mself\u001b[39m\u001b[39m.\u001b[39m_has_reset:\n\u001b[1;32m     36\u001b[0m     \u001b[39mraise\u001b[39;00m ResetNeeded(\u001b[39m\"\u001b[39m\u001b[39mCannot call env.step() before calling env.reset()\u001b[39m\u001b[39m\"\u001b[39m)\n\u001b[0;32m---> 37\u001b[0m \u001b[39mreturn\u001b[39;00m \u001b[39mself\u001b[39;49m\u001b[39m.\u001b[39;49menv\u001b[39m.\u001b[39;49mstep(action)\n",
      "File \u001b[0;32m~/.local/lib/python3.10/site-packages/gym/wrappers/env_checker.py:39\u001b[0m, in \u001b[0;36mPassiveEnvChecker.step\u001b[0;34m(self, action)\u001b[0m\n\u001b[1;32m     37\u001b[0m     \u001b[39mreturn\u001b[39;00m env_step_passive_checker(\u001b[39mself\u001b[39m\u001b[39m.\u001b[39menv, action)\n\u001b[1;32m     38\u001b[0m \u001b[39melse\u001b[39;00m:\n\u001b[0;32m---> 39\u001b[0m     \u001b[39mreturn\u001b[39;00m \u001b[39mself\u001b[39;49m\u001b[39m.\u001b[39;49menv\u001b[39m.\u001b[39;49mstep(action)\n",
      "File \u001b[0;32m~/.local/lib/python3.10/site-packages/gym/envs/classic_control/cartpole.py:187\u001b[0m, in \u001b[0;36mCartPoleEnv.step\u001b[0;34m(self, action)\u001b[0m\n\u001b[1;32m    184\u001b[0m     reward \u001b[39m=\u001b[39m \u001b[39m0.0\u001b[39m\n\u001b[1;32m    186\u001b[0m \u001b[39mif\u001b[39;00m \u001b[39mself\u001b[39m\u001b[39m.\u001b[39mrender_mode \u001b[39m==\u001b[39m \u001b[39m\"\u001b[39m\u001b[39mhuman\u001b[39m\u001b[39m\"\u001b[39m:\n\u001b[0;32m--> 187\u001b[0m     \u001b[39mself\u001b[39;49m\u001b[39m.\u001b[39;49mrender()\n\u001b[1;32m    188\u001b[0m \u001b[39mreturn\u001b[39;00m np\u001b[39m.\u001b[39marray(\u001b[39mself\u001b[39m\u001b[39m.\u001b[39mstate, dtype\u001b[39m=\u001b[39mnp\u001b[39m.\u001b[39mfloat32), reward, terminated, \u001b[39mFalse\u001b[39;00m, {}\n",
      "File \u001b[0;32m~/.local/lib/python3.10/site-packages/gym/envs/classic_control/cartpole.py:298\u001b[0m, in \u001b[0;36mCartPoleEnv.render\u001b[0;34m(self)\u001b[0m\n\u001b[1;32m    296\u001b[0m \u001b[39mif\u001b[39;00m \u001b[39mself\u001b[39m\u001b[39m.\u001b[39mrender_mode \u001b[39m==\u001b[39m \u001b[39m\"\u001b[39m\u001b[39mhuman\u001b[39m\u001b[39m\"\u001b[39m:\n\u001b[1;32m    297\u001b[0m     pygame\u001b[39m.\u001b[39mevent\u001b[39m.\u001b[39mpump()\n\u001b[0;32m--> 298\u001b[0m     \u001b[39mself\u001b[39;49m\u001b[39m.\u001b[39;49mclock\u001b[39m.\u001b[39;49mtick(\u001b[39mself\u001b[39;49m\u001b[39m.\u001b[39;49mmetadata[\u001b[39m\"\u001b[39;49m\u001b[39mrender_fps\u001b[39;49m\u001b[39m\"\u001b[39;49m])\n\u001b[1;32m    299\u001b[0m     pygame\u001b[39m.\u001b[39mdisplay\u001b[39m.\u001b[39mflip()\n\u001b[1;32m    301\u001b[0m \u001b[39melif\u001b[39;00m \u001b[39mself\u001b[39m\u001b[39m.\u001b[39mrender_mode \u001b[39m==\u001b[39m \u001b[39m\"\u001b[39m\u001b[39mrgb_array\u001b[39m\u001b[39m\"\u001b[39m:\n",
      "\u001b[0;31mKeyboardInterrupt\u001b[0m: "
     ]
    },
    {
     "ename": "",
     "evalue": "",
     "output_type": "error",
     "traceback": [
      "\u001b[1;31mThe Kernel crashed while executing code in the the current cell or a previous cell. Please review the code in the cell(s) to identify a possible cause of the failure. Click <a href='https://aka.ms/vscodeJupyterKernelCrash'>here</a> for more info. View Jupyter <a href='command:jupyter.viewOutput'>log</a> for further details."
     ]
    }
   ],
   "source": [
    "# Training\n",
    "n_episodes = 200\n",
    "for e in range(n_episodes):\n",
    "    current_state, done = discretizer(*[i for i in env.reset()[0]]), False\n",
    "\n",
    "    while done == False:\n",
    "        action = policy(current_state)\n",
    "\n",
    "        if np.random.random() < exploration_rate(e):\n",
    "            action = env.action_space.sample()\n",
    "\n",
    "        obs, reward, done, _, __ = [i for i in env.step(action)]\n",
    "        new_state = discretizer(*obs)\n",
    "\n",
    "        lr = learning_rate(e)\n",
    "        learnt_value = new_q_value(reward, new_state)\n",
    "        old_value = q_table[current_state][action]\n",
    "        q_table[current_state][action] = (1-lr)*old_value+lr*learnt_value\n",
    "\n",
    "        current_state = new_state\n",
    "\n",
    "        if done:\n",
    "            print(\"episode: {}/{}, e: {:.2}\".format(e, n_episodes, lr))\n",
    "\n",
    "        env.render()"
   ]
  }
 ],
 "metadata": {
  "kernelspec": {
   "display_name": "Python 3.10.4 64-bit",
   "language": "python",
   "name": "python3"
  },
  "language_info": {
   "codemirror_mode": {
    "name": "ipython",
    "version": 3
   },
   "file_extension": ".py",
   "mimetype": "text/x-python",
   "name": "python",
   "nbconvert_exporter": "python",
   "pygments_lexer": "ipython3",
   "version": "3.10.6"
  },
  "orig_nbformat": 4,
  "vscode": {
   "interpreter": {
    "hash": "916dbcbb3f70747c44a77c7bcd40155683ae19c65e1c03b4aa3499c5328201f1"
   }
  }
 },
 "nbformat": 4,
 "nbformat_minor": 2
}
